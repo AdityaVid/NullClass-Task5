{
 "cells": [
  {
   "cell_type": "markdown",
   "metadata": {},
   "source": [
    "## Task 5: Create a feature to translate the language from French to Tamil\n",
    "\n",
    "#### It should predict if the french word has only five letter if the french word has more than five letters or less than five letters the model should not translate the word"
   ]
  },
  {
   "cell_type": "markdown",
   "metadata": {},
   "source": [
    "### We use facebook/m2m100_418m model, which allows translation directly from french to tamil"
   ]
  },
  {
   "cell_type": "code",
   "execution_count": 7,
   "metadata": {},
   "outputs": [],
   "source": [
    "from transformers import M2M100ForConditionalGeneration, M2M100Tokenizer"
   ]
  },
  {
   "cell_type": "code",
   "execution_count": 8,
   "metadata": {},
   "outputs": [],
   "source": [
    "fr_text = \"La vie est comme une boîte de chocolat.\""
   ]
  },
  {
   "cell_type": "code",
   "execution_count": 9,
   "metadata": {},
   "outputs": [],
   "source": [
    "model = M2M100ForConditionalGeneration.from_pretrained(\"facebook/m2m100_418M\")\n",
    "tokenizer = M2M100Tokenizer.from_pretrained(\"facebook/m2m100_418M\")"
   ]
  },
  {
   "cell_type": "code",
   "execution_count": 10,
   "metadata": {},
   "outputs": [],
   "source": [
    "def filter_five_letter_words(text):\n",
    "    words = text.split()\n",
    "    filtered_words = [word for word in words if len(word) == 5]\n",
    "    return ' '.join(filtered_words)\n",
    "\n",
    "filtered_fr_text = filter_five_letter_words(fr_text)"
   ]
  },
  {
   "cell_type": "code",
   "execution_count": 11,
   "metadata": {},
   "outputs": [
    {
     "name": "stdout",
     "output_type": "stream",
     "text": [
      "Original text: La vie est comme une boîte de chocolat.\n",
      "Filtered text: comme boîte\n",
      "Translation: ['கோடு போல்']\n"
     ]
    }
   ],
   "source": [
    "if filtered_fr_text:\n",
    "    tokenizer.src_lang = \"fr\"\n",
    "    encoded_fr = tokenizer(filtered_fr_text, return_tensors=\"pt\")\n",
    "    generated_tokens = model.generate(**encoded_fr, forced_bos_token_id=tokenizer.get_lang_id(\"ta\"))\n",
    "    translation = tokenizer.batch_decode(generated_tokens, skip_special_tokens=True)\n",
    "else:\n",
    "    translation = []\n",
    "\n",
    "print(\"Original text:\", fr_text)\n",
    "print(\"Filtered text:\", filtered_fr_text)\n",
    "print(\"Translation:\", translation)"
   ]
  }
 ],
 "metadata": {
  "kernelspec": {
   "display_name": ".venv",
   "language": "python",
   "name": "python3"
  },
  "language_info": {
   "codemirror_mode": {
    "name": "ipython",
    "version": 3
   },
   "file_extension": ".py",
   "mimetype": "text/x-python",
   "name": "python",
   "nbconvert_exporter": "python",
   "pygments_lexer": "ipython3",
   "version": "3.11.9"
  }
 },
 "nbformat": 4,
 "nbformat_minor": 2
}
